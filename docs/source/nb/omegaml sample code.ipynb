{
 "cells": [
  {
   "cell_type": "code",
   "execution_count": 1,
   "metadata": {
    "collapsed": true
   },
   "outputs": [],
   "source": [
    "import sys;\n",
    "sys.path.insert(0, '/home/patrick/projects/omegaml')\n",
    "import omegaml as om"
   ]
  },
  {
   "cell_type": "code",
   "execution_count": null,
   "metadata": {
    "collapsed": true
   },
   "outputs": [],
   "source": [
    "om.datasets.list()"
   ]
  },
  {
   "cell_type": "code",
   "execution_count": 4,
   "metadata": {},
   "outputs": [
    {
     "data": {
      "text/plain": [
       "<Metadata: Metadata(attributes={},gridfile=<GridFSProxy: (no file)>,objid=None,created=2018-01-16 20:07:33.481106,bucket=store,s3file={},collection=store.data_.sample.datastore,name=sample,id=5a5e5b85de39d13b8b0a42a6,kind=pandas.dfrows,uri=None,kind_meta={'columns': {'_idx#0_0': '_idx#0_0', 'x': 'x'}, 'idx_meta': {'names': [None]}, 'dtypes': {'_idx#0_0': 'int64', 'x': 'int64'}},prefix=data/)>"
      ]
     },
     "execution_count": 4,
     "metadata": {},
     "output_type": "execute_result"
    }
   ],
   "source": [
    "import pandas as pd\n",
    "\n",
    "df = pd.DataFrame({'x': range(10)})\n",
    "om.datasets.put(df, 'sample')"
   ]
  },
  {
   "cell_type": "code",
   "execution_count": 3,
   "metadata": {},
   "outputs": [
    {
     "name": "stdout",
     "output_type": "stream",
     "text": [
      "   x  y\n",
      "2  2  2\n",
      "3  3  3\n",
      "4  4  4\n",
      "5  5  5\n"
     ]
    }
   ],
   "source": [
    "print(om.datasets.get('dfx', lazy=True).loc[2:5].value.drop_duplicates())"
   ]
  },
  {
   "cell_type": "code",
   "execution_count": 50,
   "metadata": {},
   "outputs": [
    {
     "data": {
      "text/plain": [
       "{'explain': 'specify explain=True',\n",
       " 'projection': ['x', 'y'],\n",
       " 'query': {'$and': [{'x': {'$lt': 5}}, {'x': {'$gt': 2}}]}}"
      ]
     },
     "execution_count": 50,
     "metadata": {},
     "output_type": "execute_result"
    }
   ],
   "source": [
    "om.datasets.get('dfx', lazy=True).query(x__gt=2, x__lt=5).inspect()"
   ]
  },
  {
   "cell_type": "code",
   "execution_count": 51,
   "metadata": {},
   "outputs": [
    {
     "data": {
      "text/plain": [
       "{'explain': {'executionStats': {'allPlansExecution': [],\n",
       "   'executionStages': {'advanced': 4,\n",
       "    'executionTimeMillisEstimate': 0,\n",
       "    'inputStage': {'advanced': 4,\n",
       "     'direction': 'forward',\n",
       "     'docsExamined': 1100,\n",
       "     'executionTimeMillisEstimate': 0,\n",
       "     'filter': {'$and': [{'x': {'$lt': 5}}, {'x': {'$gt': 2}}]},\n",
       "     'invalidates': 0,\n",
       "     'isEOF': 1,\n",
       "     'nReturned': 4,\n",
       "     'needTime': 1097,\n",
       "     'needYield': 0,\n",
       "     'restoreState': 8,\n",
       "     'saveState': 8,\n",
       "     'stage': 'COLLSCAN',\n",
       "     'works': 1102},\n",
       "    'invalidates': 0,\n",
       "    'isEOF': 1,\n",
       "    'nReturned': 4,\n",
       "    'needTime': 1097,\n",
       "    'needYield': 0,\n",
       "    'restoreState': 8,\n",
       "    'saveState': 8,\n",
       "    'stage': 'PROJECTION',\n",
       "    'transformBy': {'_idx#0_0': 1, 'x': 1, 'y': 1},\n",
       "    'works': 1102},\n",
       "   'executionSuccess': True,\n",
       "   'executionTimeMillis': 1,\n",
       "   'nReturned': 4,\n",
       "   'totalDocsExamined': 1100,\n",
       "   'totalKeysExamined': 0},\n",
       "  'ok': 1.0,\n",
       "  'queryPlanner': {'indexFilterSet': False,\n",
       "   'namespace': 'testing3.omegaml.data_.dfx.datastore',\n",
       "   'parsedQuery': {'$and': [{'x': {'$lt': 5}}, {'x': {'$gt': 2}}]},\n",
       "   'plannerVersion': 1,\n",
       "   'rejectedPlans': [],\n",
       "   'winningPlan': {'inputStage': {'direction': 'forward',\n",
       "     'filter': {'$and': [{'x': {'$lt': 5}}, {'x': {'$gt': 2}}]},\n",
       "     'stage': 'COLLSCAN'},\n",
       "    'stage': 'PROJECTION',\n",
       "    'transformBy': {'_idx#0_0': 1, 'x': 1, 'y': 1}}},\n",
       "  'serverInfo': {'gitVersion': '22ec9e93b40c85fc7cae7d56e7d6a02fd811088c',\n",
       "   'host': 'c24ade3fa980',\n",
       "   'port': 27017,\n",
       "   'version': '3.2.9'}},\n",
       " 'projection': ['x', 'y'],\n",
       " 'query': {'$and': [{'x': {'$lt': 5}}, {'x': {'$gt': 2}}]}}"
      ]
     },
     "execution_count": 51,
     "metadata": {},
     "output_type": "execute_result"
    }
   ],
   "source": [
    "om.datasets.get('dfx', lazy=True).query(x__gt=2, x__lt=5).inspect(explain=True)"
   ]
  },
  {
   "cell_type": "code",
   "execution_count": 64,
   "metadata": {},
   "outputs": [
    {
     "name": "stdout",
     "output_type": "stream",
     "text": [
      "       x    y\n",
      "999  999  999\n",
      "998  998  998\n",
      "997  997  997\n",
      "996  996  996\n",
      "995  995  995\n"
     ]
    }
   ],
   "source": [
    "print(om.datasets.get('dfx', lazy=True).sort(['-x', '+y']).head(5).value)"
   ]
  },
  {
   "cell_type": "code",
   "execution_count": 70,
   "metadata": {},
   "outputs": [
    {
     "name": "stdout",
     "output_type": "stream",
     "text": [
      "   x  y\n",
      "5  5  5\n",
      "6  6  6\n",
      "7  7  7\n"
     ]
    }
   ],
   "source": [
    "print(om.datasets.get('dfx', lazy=True).skip(5).head(3).value)"
   ]
  },
  {
   "cell_type": "code",
   "execution_count": 84,
   "metadata": {},
   "outputs": [
    {
     "name": "stdout",
     "output_type": "stream",
     "text": [
      "140341971523792\n",
      "140341971587648\n",
      "140341971523792\n",
      "   x  y\n",
      "3  3  3\n",
      "4  4  4\n",
      "3  3  3\n",
      "4  4  4\n"
     ]
    }
   ],
   "source": [
    "mdf = om.datasets.get('dfx', lazy=True)\n",
    "print(id(mdf))\n",
    "print(id(mdf.query(x__gt=2, x__lt=5)))\n",
    "print(id(mdf.query_inplace(x__gt=2, x__lt=5)))\n",
    "print(mdf.value)"
   ]
  },
  {
   "cell_type": "code",
   "execution_count": 99,
   "metadata": {},
   "outputs": [
    {
     "name": "stdout",
     "output_type": "stream",
     "text": [
      "   x  y\n",
      "0  0  0\n",
      "1  1  1\n",
      "2  2  2\n"
     ]
    }
   ],
   "source": [
    "import pandas as pd\n",
    "dfl = pd.DataFrame({'x': range(3)})\n",
    "dfr = pd.DataFrame({'x': range(3), 'y': range(3)})\n",
    "om.datasets.put(dfl, 'dfxl', append=False)\n",
    "om.datasets.put(dfr, 'dfxr', append=False)\n",
    "mdfl = om.datasets.get('dfxl', lazy=True)\n",
    "mdfr = om.datasets.get('dfxr', lazy=True)\n",
    "print(mdfl.merge(mdfr, on='x').value)"
   ]
  },
  {
   "cell_type": "code",
   "execution_count": 111,
   "metadata": {},
   "outputs": [
    {
     "ename": "NameError",
     "evalue": "name 'x' is not defined",
     "output_type": "error",
     "traceback": [
      "\u001b[0;31m---------------------------------------------------------------------------\u001b[0m",
      "\u001b[0;31mNameError\u001b[0m                                 Traceback (most recent call last)",
      "\u001b[0;32m<ipython-input-111-159f11da3db3>\u001b[0m in \u001b[0;36m<module>\u001b[0;34m()\u001b[0m\n\u001b[1;32m      1\u001b[0m \u001b[0mmdf\u001b[0m \u001b[0;34m=\u001b[0m \u001b[0mom\u001b[0m\u001b[0;34m.\u001b[0m\u001b[0mdatasets\u001b[0m\u001b[0;34m.\u001b[0m\u001b[0mgetl\u001b[0m\u001b[0;34m(\u001b[0m\u001b[0;34m'dfx'\u001b[0m\u001b[0;34m)\u001b[0m\u001b[0;34m\u001b[0m\u001b[0m\n\u001b[0;32m----> 2\u001b[0;31m \u001b[0mprint\u001b[0m\u001b[0;34m(\u001b[0m\u001b[0mmdf\u001b[0m\u001b[0;34m.\u001b[0m\u001b[0mgroupby\u001b[0m\u001b[0;34m(\u001b[0m\u001b[0;34m'x'\u001b[0m\u001b[0;34m)\u001b[0m\u001b[0;34m.\u001b[0m\u001b[0mx\u001b[0m\u001b[0;34m.\u001b[0m\u001b[0magg\u001b[0m\u001b[0;34m(\u001b[0m\u001b[0mdict\u001b[0m\u001b[0;34m(\u001b[0m\u001b[0msum\u001b[0m\u001b[0;34m=\u001b[0m\u001b[0mx\u001b[0m\u001b[0;34m)\u001b[0m\u001b[0;34m)\u001b[0m\u001b[0;34m.\u001b[0m\u001b[0mhead\u001b[0m\u001b[0;34m(\u001b[0m\u001b[0;36m5\u001b[0m\u001b[0;34m)\u001b[0m\u001b[0;34m)\u001b[0m\u001b[0;34m\u001b[0m\u001b[0m\n\u001b[0m",
      "\u001b[0;31mNameError\u001b[0m: name 'x' is not defined"
     ]
    }
   ],
   "source": [
    "mdf = om.datasets.getl('dfx')\n",
    "print(mdf.groupby('x').x.mean().head(5))"
   ]
  },
  {
   "cell_type": "code",
   "execution_count": 120,
   "metadata": {},
   "outputs": [
    {
     "name": "stdout",
     "output_type": "stream",
     "text": [
      "   x_sum  y_mean\n",
      "x               \n",
      "0      0     0.0\n",
      "1      2     1.0\n",
      "2      4     2.0\n",
      "3      6     3.0\n",
      "4      8     4.0\n"
     ]
    }
   ],
   "source": [
    "mdf = om.datasets.getl('dfx')\n",
    "print(mdf.groupby('x').agg(dict(x='sum', y='mean')).head(5))"
   ]
  },
  {
   "cell_type": "code",
   "execution_count": 122,
   "metadata": {},
   "outputs": [
    {
     "name": "stdout",
     "output_type": "stream",
     "text": [
      "   x_std  y_avg\n",
      "x              \n",
      "0    0.0    0.0\n",
      "1    0.0    1.0\n",
      "2    0.0    2.0\n",
      "3    0.0    3.0\n",
      "4    0.0    4.0\n"
     ]
    }
   ],
   "source": [
    "mdf = om.datasets.getl('dfx')\n",
    "print(mdf.groupby('x').agg(dict(x='std', y='avg')).head(5))"
   ]
  },
  {
   "cell_type": "code",
   "execution_count": 125,
   "metadata": {},
   "outputs": [
    {
     "name": "stdout",
     "output_type": "stream",
     "text": [
      "   x_first  y_avg\n",
      "x                \n",
      "0        0    0.0\n",
      "1        1    1.0\n",
      "2        2    2.0\n",
      "3        3    3.0\n",
      "4        4    4.0\n"
     ]
    }
   ],
   "source": [
    "mdf = om.datasets.getl('dfx')\n",
    "print(mdf.groupby('x').agg(dict(x='first', y='avg')).head(5))"
   ]
  },
  {
   "cell_type": "code",
   "execution_count": 143,
   "metadata": {},
   "outputs": [
    {
     "name": "stdout",
     "output_type": "stream",
     "text": [
      "2        Bern\n",
      "3      Zurich\n",
      "1      Geneva\n",
      "0    New York\n",
      "Name: place, dtype: object\n"
     ]
    }
   ],
   "source": [
    "from omegaml.store.queryops import GeoJSON\n",
    "locations = [{'location': {'coordinates': [-74.0059413, 40.7127837],\n",
    "                           'type': 'Point'},\n",
    "              'place': 'New York'},\n",
    "             {'location': {'coordinates': [6.1431577, 46.2043907],\n",
    "                           'type': 'Point'},\n",
    "              'place': 'Geneva'},\n",
    "             {'location': {'coordinates': [7.4474468, 46.9479739],\n",
    "                           'type': 'Point'},\n",
    "              'place': 'Bern'},\n",
    "             {'location': {'coordinates': [8.541694, 47.3768866],\n",
    "                           'type': 'Point'},\n",
    "              'place': 'Zurich'}]\n",
    "geodf = pd.DataFrame(locations)\n",
    "geodf['location'] = geodf.location.apply(lambda v: GeoJSON(v))\n",
    "om.datasets.put(geodf, 'geosample', append=False, index='@location')\n",
    "r = om.datasets.getl('geosample', location__near=dict(location=(7.4474468, 46.9479739))).value\n",
    "print(r['place'])"
   ]
  },
  {
   "cell_type": "code",
   "execution_count": 153,
   "metadata": {},
   "outputs": [
    {
     "data": {
      "text/plain": [
       "<Metadata: Metadata(s3file={},kind_meta={},created=2018-01-13 18:21:11.008630,objid=None,id=5a5a4e17de39d176ba6b986c,uri=None,gridfile=<GridFSProxy: omegaml.models_.lrmodel.omm>,prefix=models/,kind=sklearn.joblib,bucket=omegaml,attributes={},name=lrmodel,collection=None)>"
      ]
     },
     "execution_count": 153,
     "metadata": {},
     "output_type": "execute_result"
    }
   ],
   "source": [
    "from sklearn.linear_model import LinearRegression\n",
    "\n",
    "df = pd.DataFrame(dict(x=range(10), y=range(20,30)))\n",
    "clf = LinearRegression()\n",
    "clf.fit(df[['x']], df[['y']])\n",
    "clf.predict(df[['x']])\n",
    "\n",
    "om.models.put(clf, 'lrmodel')\n"
   ]
  },
  {
   "cell_type": "code",
   "execution_count": 159,
   "metadata": {},
   "outputs": [
    {
     "data": {
      "text/plain": [
       "array([[ 20.],\n",
       "       [ 21.],\n",
       "       [ 22.],\n",
       "       [ 23.],\n",
       "       [ 24.],\n",
       "       [ 25.],\n",
       "       [ 26.],\n",
       "       [ 27.],\n",
       "       [ 28.],\n",
       "       [ 29.]])"
      ]
     },
     "execution_count": 159,
     "metadata": {},
     "output_type": "execute_result"
    }
   ],
   "source": [
    "om.models.get('lrmodel')\n",
    "\n",
    "result = om.runtime.model('lrmodel').predict(df[['x']])\n",
    "result.get()\n"
   ]
  },
  {
   "cell_type": "code",
   "execution_count": 7,
   "metadata": {},
   "outputs": [
    {
     "data": {
      "text/plain": [
       "array([[ 90.],\n",
       "       [ 91.],\n",
       "       [ 92.],\n",
       "       [ 93.],\n",
       "       [ 94.],\n",
       "       [ 95.],\n",
       "       [ 96.],\n",
       "       [ 97.],\n",
       "       [ 98.],\n",
       "       [ 99.]])"
      ]
     },
     "execution_count": 7,
     "metadata": {},
     "output_type": "execute_result"
    }
   ],
   "source": [
    "import omegaml as om \n",
    "import pandas as pd \n",
    "\n",
    "om.models.get('lrmodel')\n",
    "\n",
    "df = pd.DataFrame(dict(x=range(70,80)))\n",
    "om.datasets.put(df, 'testlrmodel')\n",
    "\n",
    "result = om.runtime.model('lrmodel').predict('testlrmodel')\n",
    "result.get()\n"
   ]
  },
  {
   "cell_type": "code",
   "execution_count": 161,
   "metadata": {},
   "outputs": [
    {
     "data": {
      "text/plain": [
       "LinearRegression(copy_X=True, fit_intercept=True, n_jobs=1, normalize=False)"
      ]
     },
     "execution_count": 161,
     "metadata": {},
     "output_type": "execute_result"
    }
   ],
   "source": [
    "om.models.get('lrmodel')"
   ]
  },
  {
   "cell_type": "code",
   "execution_count": 165,
   "metadata": {},
   "outputs": [
    {
     "data": {
      "text/plain": [
       "array([[ 90.],\n",
       "       [ 91.],\n",
       "       [ 92.],\n",
       "       [ 93.],\n",
       "       [ 94.],\n",
       "       [ 95.],\n",
       "       [ 96.],\n",
       "       [ 97.],\n",
       "       [ 98.],\n",
       "       [ 99.]])"
      ]
     },
     "execution_count": 165,
     "metadata": {},
     "output_type": "execute_result"
    }
   ],
   "source": [
    "clf = om.models.get('lrmodel')\n",
    "df = pd.DataFrame(dict(x=range(70,80)))\n",
    "clf.predict(df[['x']])"
   ]
  }
 ],
 "metadata": {
  "kernelspec": {
   "display_name": "Python 3",
   "language": "python",
   "name": "python3"
  },
  "language_info": {
   "codemirror_mode": {
    "name": "ipython",
    "version": 3
   },
   "file_extension": ".py",
   "mimetype": "text/x-python",
   "name": "python",
   "nbconvert_exporter": "python",
   "pygments_lexer": "ipython3",
   "version": "3.5.4"
  }
 },
 "nbformat": 4,
 "nbformat_minor": 1
}
