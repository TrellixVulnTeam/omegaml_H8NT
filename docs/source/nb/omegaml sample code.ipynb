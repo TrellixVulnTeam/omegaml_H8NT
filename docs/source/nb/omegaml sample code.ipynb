{
 "cells": [
  {
   "cell_type": "code",
   "execution_count": 1,
   "metadata": {},
   "outputs": [
    {
     "data": {
      "text/plain": [
       "'testing3'"
      ]
     },
     "execution_count": 1,
     "metadata": {},
     "output_type": "execute_result"
    }
   ],
   "source": [
    "import sys;\n",
    "sys.path.insert(0, '/home/patrick/projects/omegaml')\n",
    "import omegaml as om\n",
    "om.defaults.OMEGA_USERID"
   ]
  },
  {
   "cell_type": "code",
   "execution_count": null,
   "metadata": {
    "collapsed": true
   },
   "outputs": [],
   "source": [
    "om.datasets.list()"
   ]
  },
  {
   "cell_type": "code",
   "execution_count": 4,
   "metadata": {},
   "outputs": [
    {
     "data": {
      "text/plain": [
       "<Metadata: Metadata(attributes={},gridfile=<GridFSProxy: (no file)>,objid=None,created=2018-01-16 20:07:33.481106,bucket=store,s3file={},collection=store.data_.sample.datastore,name=sample,id=5a5e5b85de39d13b8b0a42a6,kind=pandas.dfrows,uri=None,kind_meta={'columns': {'_idx#0_0': '_idx#0_0', 'x': 'x'}, 'idx_meta': {'names': [None]}, 'dtypes': {'_idx#0_0': 'int64', 'x': 'int64'}},prefix=data/)>"
      ]
     },
     "execution_count": 4,
     "metadata": {},
     "output_type": "execute_result"
    }
   ],
   "source": [
    "import pandas as pd\n",
    "\n",
    "df = pd.DataFrame({'x': range(10)})\n",
    "om.datasets.put(df, 'sample')"
   ]
  },
  {
   "cell_type": "code",
   "execution_count": 3,
   "metadata": {},
   "outputs": [
    {
     "name": "stdout",
     "output_type": "stream",
     "text": [
      "   x  y\n",
      "2  2  2\n",
      "3  3  3\n",
      "4  4  4\n",
      "5  5  5\n"
     ]
    }
   ],
   "source": [
    "print(om.datasets.get('dfx', lazy=True).loc[2:5].value.drop_duplicates())"
   ]
  },
  {
   "cell_type": "code",
   "execution_count": 50,
   "metadata": {},
   "outputs": [
    {
     "data": {
      "text/plain": [
       "{'explain': 'specify explain=True',\n",
       " 'projection': ['x', 'y'],\n",
       " 'query': {'$and': [{'x': {'$lt': 5}}, {'x': {'$gt': 2}}]}}"
      ]
     },
     "execution_count": 50,
     "metadata": {},
     "output_type": "execute_result"
    }
   ],
   "source": [
    "om.datasets.get('dfx', lazy=True).query(x__gt=2, x__lt=5).inspect()"
   ]
  },
  {
   "cell_type": "code",
   "execution_count": 51,
   "metadata": {},
   "outputs": [
    {
     "data": {
      "text/plain": [
       "{'explain': {'executionStats': {'allPlansExecution': [],\n",
       "   'executionStages': {'advanced': 4,\n",
       "    'executionTimeMillisEstimate': 0,\n",
       "    'inputStage': {'advanced': 4,\n",
       "     'direction': 'forward',\n",
       "     'docsExamined': 1100,\n",
       "     'executionTimeMillisEstimate': 0,\n",
       "     'filter': {'$and': [{'x': {'$lt': 5}}, {'x': {'$gt': 2}}]},\n",
       "     'invalidates': 0,\n",
       "     'isEOF': 1,\n",
       "     'nReturned': 4,\n",
       "     'needTime': 1097,\n",
       "     'needYield': 0,\n",
       "     'restoreState': 8,\n",
       "     'saveState': 8,\n",
       "     'stage': 'COLLSCAN',\n",
       "     'works': 1102},\n",
       "    'invalidates': 0,\n",
       "    'isEOF': 1,\n",
       "    'nReturned': 4,\n",
       "    'needTime': 1097,\n",
       "    'needYield': 0,\n",
       "    'restoreState': 8,\n",
       "    'saveState': 8,\n",
       "    'stage': 'PROJECTION',\n",
       "    'transformBy': {'_idx#0_0': 1, 'x': 1, 'y': 1},\n",
       "    'works': 1102},\n",
       "   'executionSuccess': True,\n",
       "   'executionTimeMillis': 1,\n",
       "   'nReturned': 4,\n",
       "   'totalDocsExamined': 1100,\n",
       "   'totalKeysExamined': 0},\n",
       "  'ok': 1.0,\n",
       "  'queryPlanner': {'indexFilterSet': False,\n",
       "   'namespace': 'testing3.omegaml.data_.dfx.datastore',\n",
       "   'parsedQuery': {'$and': [{'x': {'$lt': 5}}, {'x': {'$gt': 2}}]},\n",
       "   'plannerVersion': 1,\n",
       "   'rejectedPlans': [],\n",
       "   'winningPlan': {'inputStage': {'direction': 'forward',\n",
       "     'filter': {'$and': [{'x': {'$lt': 5}}, {'x': {'$gt': 2}}]},\n",
       "     'stage': 'COLLSCAN'},\n",
       "    'stage': 'PROJECTION',\n",
       "    'transformBy': {'_idx#0_0': 1, 'x': 1, 'y': 1}}},\n",
       "  'serverInfo': {'gitVersion': '22ec9e93b40c85fc7cae7d56e7d6a02fd811088c',\n",
       "   'host': 'c24ade3fa980',\n",
       "   'port': 27017,\n",
       "   'version': '3.2.9'}},\n",
       " 'projection': ['x', 'y'],\n",
       " 'query': {'$and': [{'x': {'$lt': 5}}, {'x': {'$gt': 2}}]}}"
      ]
     },
     "execution_count": 51,
     "metadata": {},
     "output_type": "execute_result"
    }
   ],
   "source": [
    "om.datasets.get('dfx', lazy=True).query(x__gt=2, x__lt=5).inspect(explain=True)"
   ]
  },
  {
   "cell_type": "code",
   "execution_count": 64,
   "metadata": {},
   "outputs": [
    {
     "name": "stdout",
     "output_type": "stream",
     "text": [
      "       x    y\n",
      "999  999  999\n",
      "998  998  998\n",
      "997  997  997\n",
      "996  996  996\n",
      "995  995  995\n"
     ]
    }
   ],
   "source": [
    "print(om.datasets.get('dfx', lazy=True).sort(['-x', '+y']).head(5).value)"
   ]
  },
  {
   "cell_type": "code",
   "execution_count": 70,
   "metadata": {},
   "outputs": [
    {
     "name": "stdout",
     "output_type": "stream",
     "text": [
      "   x  y\n",
      "5  5  5\n",
      "6  6  6\n",
      "7  7  7\n"
     ]
    }
   ],
   "source": [
    "print(om.datasets.get('dfx', lazy=True).skip(5).head(3).value)"
   ]
  },
  {
   "cell_type": "code",
   "execution_count": 84,
   "metadata": {},
   "outputs": [
    {
     "name": "stdout",
     "output_type": "stream",
     "text": [
      "140341971523792\n",
      "140341971587648\n",
      "140341971523792\n",
      "   x  y\n",
      "3  3  3\n",
      "4  4  4\n",
      "3  3  3\n",
      "4  4  4\n"
     ]
    }
   ],
   "source": [
    "mdf = om.datasets.get('dfx', lazy=True)\n",
    "print(id(mdf))\n",
    "print(id(mdf.query(x__gt=2, x__lt=5)))\n",
    "print(id(mdf.query_inplace(x__gt=2, x__lt=5)))\n",
    "print(mdf.value)"
   ]
  },
  {
   "cell_type": "code",
   "execution_count": 99,
   "metadata": {},
   "outputs": [
    {
     "name": "stdout",
     "output_type": "stream",
     "text": [
      "   x  y\n",
      "0  0  0\n",
      "1  1  1\n",
      "2  2  2\n"
     ]
    }
   ],
   "source": [
    "import pandas as pd\n",
    "dfl = pd.DataFrame({'x': range(3)})\n",
    "dfr = pd.DataFrame({'x': range(3), 'y': range(3)})\n",
    "om.datasets.put(dfl, 'dfxl', append=False)\n",
    "om.datasets.put(dfr, 'dfxr', append=False)\n",
    "mdfl = om.datasets.get('dfxl', lazy=True)\n",
    "mdfr = om.datasets.get('dfxr', lazy=True)\n",
    "print(mdfl.merge(mdfr, on='x').value)"
   ]
  },
  {
   "cell_type": "code",
   "execution_count": 111,
   "metadata": {},
   "outputs": [
    {
     "ename": "NameError",
     "evalue": "name 'x' is not defined",
     "output_type": "error",
     "traceback": [
      "\u001b[0;31m---------------------------------------------------------------------------\u001b[0m",
      "\u001b[0;31mNameError\u001b[0m                                 Traceback (most recent call last)",
      "\u001b[0;32m<ipython-input-111-159f11da3db3>\u001b[0m in \u001b[0;36m<module>\u001b[0;34m()\u001b[0m\n\u001b[1;32m      1\u001b[0m \u001b[0mmdf\u001b[0m \u001b[0;34m=\u001b[0m \u001b[0mom\u001b[0m\u001b[0;34m.\u001b[0m\u001b[0mdatasets\u001b[0m\u001b[0;34m.\u001b[0m\u001b[0mgetl\u001b[0m\u001b[0;34m(\u001b[0m\u001b[0;34m'dfx'\u001b[0m\u001b[0;34m)\u001b[0m\u001b[0;34m\u001b[0m\u001b[0m\n\u001b[0;32m----> 2\u001b[0;31m \u001b[0mprint\u001b[0m\u001b[0;34m(\u001b[0m\u001b[0mmdf\u001b[0m\u001b[0;34m.\u001b[0m\u001b[0mgroupby\u001b[0m\u001b[0;34m(\u001b[0m\u001b[0;34m'x'\u001b[0m\u001b[0;34m)\u001b[0m\u001b[0;34m.\u001b[0m\u001b[0mx\u001b[0m\u001b[0;34m.\u001b[0m\u001b[0magg\u001b[0m\u001b[0;34m(\u001b[0m\u001b[0mdict\u001b[0m\u001b[0;34m(\u001b[0m\u001b[0msum\u001b[0m\u001b[0;34m=\u001b[0m\u001b[0mx\u001b[0m\u001b[0;34m)\u001b[0m\u001b[0;34m)\u001b[0m\u001b[0;34m.\u001b[0m\u001b[0mhead\u001b[0m\u001b[0;34m(\u001b[0m\u001b[0;36m5\u001b[0m\u001b[0;34m)\u001b[0m\u001b[0;34m)\u001b[0m\u001b[0;34m\u001b[0m\u001b[0m\n\u001b[0m",
      "\u001b[0;31mNameError\u001b[0m: name 'x' is not defined"
     ]
    }
   ],
   "source": [
    "mdf = om.datasets.getl('dfx')\n",
    "print(mdf.groupby('x').x.mean().head(5))"
   ]
  },
  {
   "cell_type": "code",
   "execution_count": 120,
   "metadata": {},
   "outputs": [
    {
     "name": "stdout",
     "output_type": "stream",
     "text": [
      "   x_sum  y_mean\n",
      "x               \n",
      "0      0     0.0\n",
      "1      2     1.0\n",
      "2      4     2.0\n",
      "3      6     3.0\n",
      "4      8     4.0\n"
     ]
    }
   ],
   "source": [
    "mdf = om.datasets.getl('dfx')\n",
    "print(mdf.groupby('x').agg(dict(x='sum', y='mean')).head(5))"
   ]
  },
  {
   "cell_type": "code",
   "execution_count": 122,
   "metadata": {},
   "outputs": [
    {
     "name": "stdout",
     "output_type": "stream",
     "text": [
      "   x_std  y_avg\n",
      "x              \n",
      "0    0.0    0.0\n",
      "1    0.0    1.0\n",
      "2    0.0    2.0\n",
      "3    0.0    3.0\n",
      "4    0.0    4.0\n"
     ]
    }
   ],
   "source": [
    "mdf = om.datasets.getl('dfx')\n",
    "print(mdf.groupby('x').agg(dict(x='std', y='avg')).head(5))"
   ]
  },
  {
   "cell_type": "code",
   "execution_count": 125,
   "metadata": {},
   "outputs": [
    {
     "name": "stdout",
     "output_type": "stream",
     "text": [
      "   x_first  y_avg\n",
      "x                \n",
      "0        0    0.0\n",
      "1        1    1.0\n",
      "2        2    2.0\n",
      "3        3    3.0\n",
      "4        4    4.0\n"
     ]
    }
   ],
   "source": [
    "mdf = om.datasets.getl('dfx')\n",
    "print(mdf.groupby('x').agg(dict(x='first', y='avg')).head(5))"
   ]
  },
  {
   "cell_type": "code",
   "execution_count": 143,
   "metadata": {},
   "outputs": [
    {
     "name": "stdout",
     "output_type": "stream",
     "text": [
      "2        Bern\n",
      "3      Zurich\n",
      "1      Geneva\n",
      "0    New York\n",
      "Name: place, dtype: object\n"
     ]
    }
   ],
   "source": [
    "from omegaml.store.queryops import GeoJSON\n",
    "locations = [{'location': {'coordinates': [-74.0059413, 40.7127837],\n",
    "                           'type': 'Point'},\n",
    "              'place': 'New York'},\n",
    "             {'location': {'coordinates': [6.1431577, 46.2043907],\n",
    "                           'type': 'Point'},\n",
    "              'place': 'Geneva'},\n",
    "             {'location': {'coordinates': [7.4474468, 46.9479739],\n",
    "                           'type': 'Point'},\n",
    "              'place': 'Bern'},\n",
    "             {'location': {'coordinates': [8.541694, 47.3768866],\n",
    "                           'type': 'Point'},\n",
    "              'place': 'Zurich'}]\n",
    "geodf = pd.DataFrame(locations)\n",
    "geodf['location'] = geodf.location.apply(lambda v: GeoJSON(v))\n",
    "om.datasets.put(geodf, 'geosample', append=False, index='@location')\n",
    "r = om.datasets.getl('geosample', location__near=dict(location=(7.4474468, 46.9479739))).value\n",
    "print(r['place'])"
   ]
  },
  {
   "cell_type": "code",
   "execution_count": 153,
   "metadata": {},
   "outputs": [
    {
     "data": {
      "text/plain": [
       "<Metadata: Metadata(s3file={},kind_meta={},created=2018-01-13 18:21:11.008630,objid=None,id=5a5a4e17de39d176ba6b986c,uri=None,gridfile=<GridFSProxy: omegaml.models_.lrmodel.omm>,prefix=models/,kind=sklearn.joblib,bucket=omegaml,attributes={},name=lrmodel,collection=None)>"
      ]
     },
     "execution_count": 153,
     "metadata": {},
     "output_type": "execute_result"
    }
   ],
   "source": [
    "from sklearn.linear_model import LinearRegression\n",
    "\n",
    "df = pd.DataFrame(dict(x=range(10), y=range(20,30)))\n",
    "clf = LinearRegression()\n",
    "clf.fit(df[['x']], df[['y']])\n",
    "clf.predict(df[['x']])\n",
    "\n",
    "om.models.put(clf, 'lrmodel')\n"
   ]
  },
  {
   "cell_type": "code",
   "execution_count": 159,
   "metadata": {},
   "outputs": [
    {
     "data": {
      "text/plain": [
       "array([[ 20.],\n",
       "       [ 21.],\n",
       "       [ 22.],\n",
       "       [ 23.],\n",
       "       [ 24.],\n",
       "       [ 25.],\n",
       "       [ 26.],\n",
       "       [ 27.],\n",
       "       [ 28.],\n",
       "       [ 29.]])"
      ]
     },
     "execution_count": 159,
     "metadata": {},
     "output_type": "execute_result"
    }
   ],
   "source": [
    "om.models.get('lrmodel')\n",
    "\n",
    "result = om.runtime.model('lrmodel').predict(df[['x']])\n",
    "result.get()\n"
   ]
  },
  {
   "cell_type": "code",
   "execution_count": null,
   "metadata": {},
   "outputs": [],
   "source": [
    "import sys;\n",
    "sys.path.insert(0, '/home/patrick/projects/omegaml')\n",
    "\n",
    "\n",
    "import omegaml as om \n",
    "import pandas as pd \n",
    "\n",
    "om.models.get('lrmodel')\n",
    "\n",
    "df = pd.DataFrame(dict(x=range(70,80)))\n",
    "om.datasets.put(df, 'testlrmodel')\n",
    "\n",
    "result = om.runtime.model('lrmodel').predict('testlrmodel')\n",
    "result.get()\n",
    "\n"
   ]
  },
  {
   "cell_type": "code",
   "execution_count": 7,
   "metadata": {},
   "outputs": [
    {
     "ename": "KeyboardInterrupt",
     "evalue": "",
     "output_type": "error",
     "traceback": [
      "\u001b[0;31m---------------------------------------------------------------------------\u001b[0m",
      "\u001b[0;31mKeyboardInterrupt\u001b[0m                         Traceback (most recent call last)",
      "\u001b[0;32m<ipython-input-7-27db741cc0fc>\u001b[0m in \u001b[0;36m<module>\u001b[0;34m()\u001b[0m\n\u001b[1;32m      5\u001b[0m \u001b[0;32mimport\u001b[0m \u001b[0momegaml\u001b[0m \u001b[0;32mas\u001b[0m \u001b[0mom\u001b[0m\u001b[0;34m\u001b[0m\u001b[0m\n\u001b[1;32m      6\u001b[0m \u001b[0;32mimport\u001b[0m \u001b[0mpandas\u001b[0m \u001b[0;32mas\u001b[0m \u001b[0mpd\u001b[0m\u001b[0;34m\u001b[0m\u001b[0m\n\u001b[0;32m----> 7\u001b[0;31m \u001b[0mom\u001b[0m\u001b[0;34m.\u001b[0m\u001b[0mruntime\u001b[0m\u001b[0;34m.\u001b[0m\u001b[0msettings\u001b[0m\u001b[0;34m(\u001b[0m\u001b[0;34m)\u001b[0m\u001b[0;34m\u001b[0m\u001b[0m\n\u001b[0m",
      "\u001b[0;32m~/projects/omegaml/omegaml/runtime/runtime.py\u001b[0m in \u001b[0;36msettings\u001b[0;34m(self)\u001b[0m\n\u001b[1;32m     59\u001b[0m         \u001b[0;32mreturn\u001b[0m \u001b[0mthe\u001b[0m \u001b[0mruntime\u001b[0m\u001b[0;31m'\u001b[0m\u001b[0ms\u001b[0m \u001b[0mcluster\u001b[0m \u001b[0msettings\u001b[0m\u001b[0;34m\u001b[0m\u001b[0m\n\u001b[1;32m     60\u001b[0m         \"\"\"\n\u001b[0;32m---> 61\u001b[0;31m         \u001b[0;32mreturn\u001b[0m \u001b[0mself\u001b[0m\u001b[0;34m.\u001b[0m\u001b[0mtask\u001b[0m\u001b[0;34m(\u001b[0m\u001b[0;34m'omegaml.tasks.omega_settings'\u001b[0m\u001b[0;34m)\u001b[0m\u001b[0;34m.\u001b[0m\u001b[0mdelay\u001b[0m\u001b[0;34m(\u001b[0m\u001b[0;34m)\u001b[0m\u001b[0;34m.\u001b[0m\u001b[0mget\u001b[0m\u001b[0;34m(\u001b[0m\u001b[0;34m)\u001b[0m\u001b[0;34m\u001b[0m\u001b[0m\n\u001b[0m\u001b[1;32m     62\u001b[0m \u001b[0;34m\u001b[0m\u001b[0m\n\u001b[1;32m     63\u001b[0m     \u001b[0;34m@\u001b[0m\u001b[0mproperty\u001b[0m\u001b[0;34m\u001b[0m\u001b[0m\n",
      "\u001b[0;32m/usr/local/anaconda/envs/omegamlpy3/lib/python3.5/site-packages/celery/result.py\u001b[0m in \u001b[0;36mget\u001b[0;34m(self, timeout, propagate, interval, no_ack, follow_parents, EXCEPTION_STATES, PROPAGATE_STATES)\u001b[0m\n\u001b[1;32m    167\u001b[0m             \u001b[0minterval\u001b[0m\u001b[0;34m=\u001b[0m\u001b[0minterval\u001b[0m\u001b[0;34m,\u001b[0m\u001b[0;34m\u001b[0m\u001b[0m\n\u001b[1;32m    168\u001b[0m             \u001b[0mon_interval\u001b[0m\u001b[0;34m=\u001b[0m\u001b[0mon_interval\u001b[0m\u001b[0;34m,\u001b[0m\u001b[0;34m\u001b[0m\u001b[0m\n\u001b[0;32m--> 169\u001b[0;31m             \u001b[0mno_ack\u001b[0m\u001b[0;34m=\u001b[0m\u001b[0mno_ack\u001b[0m\u001b[0;34m,\u001b[0m\u001b[0;34m\u001b[0m\u001b[0m\n\u001b[0m\u001b[1;32m    170\u001b[0m         )\n\u001b[1;32m    171\u001b[0m         \u001b[0;32mif\u001b[0m \u001b[0mmeta\u001b[0m\u001b[0;34m:\u001b[0m\u001b[0;34m\u001b[0m\u001b[0m\n",
      "\u001b[0;32m/usr/local/anaconda/envs/omegamlpy3/lib/python3.5/site-packages/celery/backends/amqp.py\u001b[0m in \u001b[0;36mwait_for\u001b[0;34m(self, task_id, timeout, cache, no_ack, on_interval, READY_STATES, PROPAGATE_STATES, **kwargs)\u001b[0m\n\u001b[1;32m    153\u001b[0m             \u001b[0;32mtry\u001b[0m\u001b[0;34m:\u001b[0m\u001b[0;34m\u001b[0m\u001b[0m\n\u001b[1;32m    154\u001b[0m                 return self.consume(task_id, timeout=timeout, no_ack=no_ack,\n\u001b[0;32m--> 155\u001b[0;31m                                     on_interval=on_interval)\n\u001b[0m\u001b[1;32m    156\u001b[0m             \u001b[0;32mexcept\u001b[0m \u001b[0msocket\u001b[0m\u001b[0;34m.\u001b[0m\u001b[0mtimeout\u001b[0m\u001b[0;34m:\u001b[0m\u001b[0;34m\u001b[0m\u001b[0m\n\u001b[1;32m    157\u001b[0m                 \u001b[0;32mraise\u001b[0m \u001b[0mTimeoutError\u001b[0m\u001b[0;34m(\u001b[0m\u001b[0;34m'The operation timed out.'\u001b[0m\u001b[0;34m)\u001b[0m\u001b[0;34m\u001b[0m\u001b[0m\n",
      "\u001b[0;32m/usr/local/anaconda/envs/omegamlpy3/lib/python3.5/site-packages/celery/backends/amqp.py\u001b[0m in \u001b[0;36mconsume\u001b[0;34m(self, task_id, timeout, no_ack, on_interval)\u001b[0m\n\u001b[1;32m    230\u001b[0m                     \u001b[0;32mtry\u001b[0m\u001b[0;34m:\u001b[0m\u001b[0;34m\u001b[0m\u001b[0m\n\u001b[1;32m    231\u001b[0m                         return wait(\n\u001b[0;32m--> 232\u001b[0;31m                             conn, consumer, timeout, on_interval)[task_id]\n\u001b[0m\u001b[1;32m    233\u001b[0m                     \u001b[0;32mexcept\u001b[0m \u001b[0mKeyError\u001b[0m\u001b[0;34m:\u001b[0m\u001b[0;34m\u001b[0m\u001b[0m\n\u001b[1;32m    234\u001b[0m                         \u001b[0;32mcontinue\u001b[0m\u001b[0;34m\u001b[0m\u001b[0m\n",
      "\u001b[0;32m/usr/local/anaconda/envs/omegamlpy3/lib/python3.5/site-packages/celery/backends/amqp.py\u001b[0m in \u001b[0;36mdrain_events\u001b[0;34m(self, connection, consumer, timeout, on_interval, now, wait)\u001b[0m\n\u001b[1;32m    211\u001b[0m                 \u001b[0;32mraise\u001b[0m \u001b[0msocket\u001b[0m\u001b[0;34m.\u001b[0m\u001b[0mtimeout\u001b[0m\u001b[0;34m(\u001b[0m\u001b[0;34m)\u001b[0m\u001b[0;34m\u001b[0m\u001b[0m\n\u001b[1;32m    212\u001b[0m             \u001b[0;32mtry\u001b[0m\u001b[0;34m:\u001b[0m\u001b[0;34m\u001b[0m\u001b[0m\n\u001b[0;32m--> 213\u001b[0;31m                 \u001b[0mwait\u001b[0m\u001b[0;34m(\u001b[0m\u001b[0mtimeout\u001b[0m\u001b[0;34m=\u001b[0m\u001b[0;36m1\u001b[0m\u001b[0;34m)\u001b[0m\u001b[0;34m\u001b[0m\u001b[0m\n\u001b[0m\u001b[1;32m    214\u001b[0m             \u001b[0;32mexcept\u001b[0m \u001b[0msocket\u001b[0m\u001b[0;34m.\u001b[0m\u001b[0mtimeout\u001b[0m\u001b[0;34m:\u001b[0m\u001b[0;34m\u001b[0m\u001b[0m\n\u001b[1;32m    215\u001b[0m                 \u001b[0;32mpass\u001b[0m\u001b[0;34m\u001b[0m\u001b[0m\n",
      "\u001b[0;32m/usr/local/anaconda/envs/omegamlpy3/lib/python3.5/site-packages/kombu/connection.py\u001b[0m in \u001b[0;36mdrain_events\u001b[0;34m(self, **kwargs)\u001b[0m\n\u001b[1;32m    286\u001b[0m \u001b[0;34m\u001b[0m\u001b[0m\n\u001b[1;32m    287\u001b[0m         \"\"\"\n\u001b[0;32m--> 288\u001b[0;31m         \u001b[0;32mreturn\u001b[0m \u001b[0mself\u001b[0m\u001b[0;34m.\u001b[0m\u001b[0mtransport\u001b[0m\u001b[0;34m.\u001b[0m\u001b[0mdrain_events\u001b[0m\u001b[0;34m(\u001b[0m\u001b[0mself\u001b[0m\u001b[0;34m.\u001b[0m\u001b[0mconnection\u001b[0m\u001b[0;34m,\u001b[0m \u001b[0;34m**\u001b[0m\u001b[0mkwargs\u001b[0m\u001b[0;34m)\u001b[0m\u001b[0;34m\u001b[0m\u001b[0m\n\u001b[0m\u001b[1;32m    289\u001b[0m \u001b[0;34m\u001b[0m\u001b[0m\n\u001b[1;32m    290\u001b[0m     \u001b[0;32mdef\u001b[0m \u001b[0mmaybe_close_channel\u001b[0m\u001b[0;34m(\u001b[0m\u001b[0mself\u001b[0m\u001b[0;34m,\u001b[0m \u001b[0mchannel\u001b[0m\u001b[0;34m)\u001b[0m\u001b[0;34m:\u001b[0m\u001b[0;34m\u001b[0m\u001b[0m\n",
      "\u001b[0;32m/usr/local/anaconda/envs/omegamlpy3/lib/python3.5/site-packages/kombu/transport/pyamqp.py\u001b[0m in \u001b[0;36mdrain_events\u001b[0;34m(self, connection, **kwargs)\u001b[0m\n\u001b[1;32m     93\u001b[0m \u001b[0;34m\u001b[0m\u001b[0m\n\u001b[1;32m     94\u001b[0m     \u001b[0;32mdef\u001b[0m \u001b[0mdrain_events\u001b[0m\u001b[0;34m(\u001b[0m\u001b[0mself\u001b[0m\u001b[0;34m,\u001b[0m \u001b[0mconnection\u001b[0m\u001b[0;34m,\u001b[0m \u001b[0;34m**\u001b[0m\u001b[0mkwargs\u001b[0m\u001b[0;34m)\u001b[0m\u001b[0;34m:\u001b[0m\u001b[0;34m\u001b[0m\u001b[0m\n\u001b[0;32m---> 95\u001b[0;31m         \u001b[0;32mreturn\u001b[0m \u001b[0mconnection\u001b[0m\u001b[0;34m.\u001b[0m\u001b[0mdrain_events\u001b[0m\u001b[0;34m(\u001b[0m\u001b[0;34m**\u001b[0m\u001b[0mkwargs\u001b[0m\u001b[0;34m)\u001b[0m\u001b[0;34m\u001b[0m\u001b[0m\n\u001b[0m\u001b[1;32m     96\u001b[0m \u001b[0;34m\u001b[0m\u001b[0m\n\u001b[1;32m     97\u001b[0m     \u001b[0;32mdef\u001b[0m \u001b[0mestablish_connection\u001b[0m\u001b[0;34m(\u001b[0m\u001b[0mself\u001b[0m\u001b[0;34m)\u001b[0m\u001b[0;34m:\u001b[0m\u001b[0;34m\u001b[0m\u001b[0m\n",
      "\u001b[0;32m/usr/local/anaconda/envs/omegamlpy3/lib/python3.5/site-packages/amqp/connection.py\u001b[0m in \u001b[0;36mdrain_events\u001b[0;34m(self, timeout)\u001b[0m\n\u001b[1;32m    301\u001b[0m         \u001b[0mchanmap\u001b[0m \u001b[0;34m=\u001b[0m \u001b[0mself\u001b[0m\u001b[0;34m.\u001b[0m\u001b[0mchannels\u001b[0m\u001b[0;34m\u001b[0m\u001b[0m\n\u001b[1;32m    302\u001b[0m         chanid, method_sig, args, content = self._wait_multiple(\n\u001b[0;32m--> 303\u001b[0;31m             \u001b[0mchanmap\u001b[0m\u001b[0;34m,\u001b[0m \u001b[0;32mNone\u001b[0m\u001b[0;34m,\u001b[0m \u001b[0mtimeout\u001b[0m\u001b[0;34m=\u001b[0m\u001b[0mtimeout\u001b[0m\u001b[0;34m,\u001b[0m\u001b[0;34m\u001b[0m\u001b[0m\n\u001b[0m\u001b[1;32m    304\u001b[0m         )\n\u001b[1;32m    305\u001b[0m \u001b[0;34m\u001b[0m\u001b[0m\n",
      "\u001b[0;32m/usr/local/anaconda/envs/omegamlpy3/lib/python3.5/site-packages/amqp/connection.py\u001b[0m in \u001b[0;36m_wait_multiple\u001b[0;34m(self, channels, allowed_methods, timeout)\u001b[0m\n\u001b[1;32m    364\u001b[0m         \u001b[0mwait\u001b[0m \u001b[0;34m=\u001b[0m \u001b[0mself\u001b[0m\u001b[0;34m.\u001b[0m\u001b[0mwait\u001b[0m\u001b[0;34m\u001b[0m\u001b[0m\n\u001b[1;32m    365\u001b[0m         \u001b[0;32mwhile\u001b[0m \u001b[0;36m1\u001b[0m\u001b[0;34m:\u001b[0m\u001b[0;34m\u001b[0m\u001b[0m\n\u001b[0;32m--> 366\u001b[0;31m             \u001b[0mchannel\u001b[0m\u001b[0;34m,\u001b[0m \u001b[0mmethod_sig\u001b[0m\u001b[0;34m,\u001b[0m \u001b[0margs\u001b[0m\u001b[0;34m,\u001b[0m \u001b[0mcontent\u001b[0m \u001b[0;34m=\u001b[0m \u001b[0mread_timeout\u001b[0m\u001b[0;34m(\u001b[0m\u001b[0mtimeout\u001b[0m\u001b[0;34m)\u001b[0m\u001b[0;34m\u001b[0m\u001b[0m\n\u001b[0m\u001b[1;32m    367\u001b[0m \u001b[0;34m\u001b[0m\u001b[0m\n\u001b[1;32m    368\u001b[0m             if channel in channels and (\n",
      "\u001b[0;32m/usr/local/anaconda/envs/omegamlpy3/lib/python3.5/site-packages/amqp/connection.py\u001b[0m in \u001b[0;36mread_timeout\u001b[0;34m(self, timeout)\u001b[0m\n\u001b[1;32m    335\u001b[0m         \u001b[0;32mtry\u001b[0m\u001b[0;34m:\u001b[0m\u001b[0;34m\u001b[0m\u001b[0m\n\u001b[1;32m    336\u001b[0m             \u001b[0;32mtry\u001b[0m\u001b[0;34m:\u001b[0m\u001b[0;34m\u001b[0m\u001b[0m\n\u001b[0;32m--> 337\u001b[0;31m                 \u001b[0;32mreturn\u001b[0m \u001b[0mself\u001b[0m\u001b[0;34m.\u001b[0m\u001b[0mmethod_reader\u001b[0m\u001b[0;34m.\u001b[0m\u001b[0mread_method\u001b[0m\u001b[0;34m(\u001b[0m\u001b[0;34m)\u001b[0m\u001b[0;34m\u001b[0m\u001b[0m\n\u001b[0m\u001b[1;32m    338\u001b[0m             \u001b[0;32mexcept\u001b[0m \u001b[0mSSLError\u001b[0m \u001b[0;32mas\u001b[0m \u001b[0mexc\u001b[0m\u001b[0;34m:\u001b[0m\u001b[0;34m\u001b[0m\u001b[0m\n\u001b[1;32m    339\u001b[0m                 \u001b[0;31m# http://bugs.python.org/issue10272\u001b[0m\u001b[0;34m\u001b[0m\u001b[0;34m\u001b[0m\u001b[0m\n",
      "\u001b[0;32m/usr/local/anaconda/envs/omegamlpy3/lib/python3.5/site-packages/amqp/method_framing.py\u001b[0m in \u001b[0;36mread_method\u001b[0;34m(self)\u001b[0m\n\u001b[1;32m    184\u001b[0m     \u001b[0;32mdef\u001b[0m \u001b[0mread_method\u001b[0m\u001b[0;34m(\u001b[0m\u001b[0mself\u001b[0m\u001b[0;34m)\u001b[0m\u001b[0;34m:\u001b[0m\u001b[0;34m\u001b[0m\u001b[0m\n\u001b[1;32m    185\u001b[0m         \u001b[0;34m\"\"\"Read a method from the peer.\"\"\"\u001b[0m\u001b[0;34m\u001b[0m\u001b[0m\n\u001b[0;32m--> 186\u001b[0;31m         \u001b[0mself\u001b[0m\u001b[0;34m.\u001b[0m\u001b[0m_next_method\u001b[0m\u001b[0;34m(\u001b[0m\u001b[0;34m)\u001b[0m\u001b[0;34m\u001b[0m\u001b[0m\n\u001b[0m\u001b[1;32m    187\u001b[0m         \u001b[0mm\u001b[0m \u001b[0;34m=\u001b[0m \u001b[0mself\u001b[0m\u001b[0;34m.\u001b[0m\u001b[0m_quick_get\u001b[0m\u001b[0;34m(\u001b[0m\u001b[0;34m)\u001b[0m\u001b[0;34m\u001b[0m\u001b[0m\n\u001b[1;32m    188\u001b[0m         \u001b[0;32mif\u001b[0m \u001b[0misinstance\u001b[0m\u001b[0;34m(\u001b[0m\u001b[0mm\u001b[0m\u001b[0;34m,\u001b[0m \u001b[0mException\u001b[0m\u001b[0;34m)\u001b[0m\u001b[0;34m:\u001b[0m\u001b[0;34m\u001b[0m\u001b[0m\n",
      "\u001b[0;32m/usr/local/anaconda/envs/omegamlpy3/lib/python3.5/site-packages/amqp/method_framing.py\u001b[0m in \u001b[0;36m_next_method\u001b[0;34m(self)\u001b[0m\n\u001b[1;32m    105\u001b[0m         \u001b[0;32mwhile\u001b[0m \u001b[0;32mnot\u001b[0m \u001b[0mqueue\u001b[0m\u001b[0;34m:\u001b[0m\u001b[0;34m\u001b[0m\u001b[0m\n\u001b[1;32m    106\u001b[0m             \u001b[0;32mtry\u001b[0m\u001b[0;34m:\u001b[0m\u001b[0;34m\u001b[0m\u001b[0m\n\u001b[0;32m--> 107\u001b[0;31m                 \u001b[0mframe_type\u001b[0m\u001b[0;34m,\u001b[0m \u001b[0mchannel\u001b[0m\u001b[0;34m,\u001b[0m \u001b[0mpayload\u001b[0m \u001b[0;34m=\u001b[0m \u001b[0mread_frame\u001b[0m\u001b[0;34m(\u001b[0m\u001b[0;34m)\u001b[0m\u001b[0;34m\u001b[0m\u001b[0m\n\u001b[0m\u001b[1;32m    108\u001b[0m             \u001b[0;32mexcept\u001b[0m \u001b[0mException\u001b[0m \u001b[0;32mas\u001b[0m \u001b[0mexc\u001b[0m\u001b[0;34m:\u001b[0m\u001b[0;34m\u001b[0m\u001b[0m\n\u001b[1;32m    109\u001b[0m                 \u001b[0;31m#\u001b[0m\u001b[0;34m\u001b[0m\u001b[0;34m\u001b[0m\u001b[0m\n",
      "\u001b[0;32m/usr/local/anaconda/envs/omegamlpy3/lib/python3.5/site-packages/amqp/transport.py\u001b[0m in \u001b[0;36mread_frame\u001b[0;34m(self, unpack)\u001b[0m\n\u001b[1;32m    152\u001b[0m         \u001b[0mread_frame_buffer\u001b[0m \u001b[0;34m=\u001b[0m \u001b[0mEMPTY_BUFFER\u001b[0m\u001b[0;34m\u001b[0m\u001b[0m\n\u001b[1;32m    153\u001b[0m         \u001b[0;32mtry\u001b[0m\u001b[0;34m:\u001b[0m\u001b[0;34m\u001b[0m\u001b[0m\n\u001b[0;32m--> 154\u001b[0;31m             \u001b[0mframe_header\u001b[0m \u001b[0;34m=\u001b[0m \u001b[0mread\u001b[0m\u001b[0;34m(\u001b[0m\u001b[0;36m7\u001b[0m\u001b[0;34m,\u001b[0m \u001b[0;32mTrue\u001b[0m\u001b[0;34m)\u001b[0m\u001b[0;34m\u001b[0m\u001b[0m\n\u001b[0m\u001b[1;32m    155\u001b[0m             \u001b[0mread_frame_buffer\u001b[0m \u001b[0;34m+=\u001b[0m \u001b[0mframe_header\u001b[0m\u001b[0;34m\u001b[0m\u001b[0m\n\u001b[1;32m    156\u001b[0m             \u001b[0mframe_type\u001b[0m\u001b[0;34m,\u001b[0m \u001b[0mchannel\u001b[0m\u001b[0;34m,\u001b[0m \u001b[0msize\u001b[0m \u001b[0;34m=\u001b[0m \u001b[0munpack\u001b[0m\u001b[0;34m(\u001b[0m\u001b[0;34m'>BHI'\u001b[0m\u001b[0;34m,\u001b[0m \u001b[0mframe_header\u001b[0m\u001b[0;34m)\u001b[0m\u001b[0;34m\u001b[0m\u001b[0m\n",
      "\u001b[0;32m/usr/local/anaconda/envs/omegamlpy3/lib/python3.5/site-packages/amqp/transport.py\u001b[0m in \u001b[0;36m_read\u001b[0;34m(self, n, initial, _errnos)\u001b[0m\n\u001b[1;32m    275\u001b[0m             \u001b[0;32mwhile\u001b[0m \u001b[0mlen\u001b[0m\u001b[0;34m(\u001b[0m\u001b[0mrbuf\u001b[0m\u001b[0;34m)\u001b[0m \u001b[0;34m<\u001b[0m \u001b[0mn\u001b[0m\u001b[0;34m:\u001b[0m\u001b[0;34m\u001b[0m\u001b[0m\n\u001b[1;32m    276\u001b[0m                 \u001b[0;32mtry\u001b[0m\u001b[0;34m:\u001b[0m\u001b[0;34m\u001b[0m\u001b[0m\n\u001b[0;32m--> 277\u001b[0;31m                     \u001b[0ms\u001b[0m \u001b[0;34m=\u001b[0m \u001b[0mrecv\u001b[0m\u001b[0;34m(\u001b[0m\u001b[0mn\u001b[0m \u001b[0;34m-\u001b[0m \u001b[0mlen\u001b[0m\u001b[0;34m(\u001b[0m\u001b[0mrbuf\u001b[0m\u001b[0;34m)\u001b[0m\u001b[0;34m)\u001b[0m\u001b[0;34m\u001b[0m\u001b[0m\n\u001b[0m\u001b[1;32m    278\u001b[0m                 \u001b[0;32mexcept\u001b[0m \u001b[0msocket\u001b[0m\u001b[0;34m.\u001b[0m\u001b[0merror\u001b[0m \u001b[0;32mas\u001b[0m \u001b[0mexc\u001b[0m\u001b[0;34m:\u001b[0m\u001b[0;34m\u001b[0m\u001b[0m\n\u001b[1;32m    279\u001b[0m                     \u001b[0;32mif\u001b[0m \u001b[0;32mnot\u001b[0m \u001b[0minitial\u001b[0m \u001b[0;32mand\u001b[0m \u001b[0mexc\u001b[0m\u001b[0;34m.\u001b[0m\u001b[0merrno\u001b[0m \u001b[0;32min\u001b[0m \u001b[0m_errnos\u001b[0m\u001b[0;34m:\u001b[0m\u001b[0;34m\u001b[0m\u001b[0m\n",
      "\u001b[0;31mKeyboardInterrupt\u001b[0m: "
     ]
    }
   ],
   "source": [
    "import sys;\n",
    "sys.path.insert(0, '/home/patrick/projects/omegaml')\n",
    "\n",
    "\n",
    "import omegaml as om \n",
    "import pandas as pd \n",
    "om.runtime.settings()"
   ]
  },
  {
   "cell_type": "code",
   "execution_count": 5,
   "metadata": {},
   "outputs": [
    {
     "data": {
      "text/plain": [
       "Database(MongoClient(host=['dokku.me:27017'], document_class=dict, tz_aware=False, connect=False, read_preference=Primary(), serverselectiontimeoutms=2500), 'testing3')"
      ]
     },
     "execution_count": 5,
     "metadata": {},
     "output_type": "execute_result"
    }
   ],
   "source": [
    "om.models.mongodb\n"
   ]
  },
  {
   "cell_type": "code",
   "execution_count": 161,
   "metadata": {},
   "outputs": [
    {
     "data": {
      "text/plain": [
       "LinearRegression(copy_X=True, fit_intercept=True, n_jobs=1, normalize=False)"
      ]
     },
     "execution_count": 161,
     "metadata": {},
     "output_type": "execute_result"
    }
   ],
   "source": [
    "om.models.get('lrmodel')"
   ]
  },
  {
   "cell_type": "code",
   "execution_count": 5,
   "metadata": {},
   "outputs": [
    {
     "data": {
      "text/plain": [
       "array([[ 90.],\n",
       "       [ 91.],\n",
       "       [ 92.],\n",
       "       [ 93.],\n",
       "       [ 94.],\n",
       "       [ 95.],\n",
       "       [ 96.],\n",
       "       [ 97.],\n",
       "       [ 98.],\n",
       "       [ 99.]])"
      ]
     },
     "execution_count": 5,
     "metadata": {},
     "output_type": "execute_result"
    }
   ],
   "source": [
    "import pandas as pd\n",
    "\n",
    "clf = om.models.get('lrmodel')\n",
    "df = pd.DataFrame(dict(x=range(70,80)))\n",
    "clf.predict(df[['x']])"
   ]
  }
 ],
 "metadata": {
  "kernelspec": {
   "display_name": "Python 3",
   "language": "python",
   "name": "python3"
  }
 },
 "nbformat": 4,
 "nbformat_minor": 1
}
