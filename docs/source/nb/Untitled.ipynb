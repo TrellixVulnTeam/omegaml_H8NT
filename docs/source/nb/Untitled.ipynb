{
 "cells": [
  {
   "cell_type": "code",
   "execution_count": 7,
   "metadata": {
    "collapsed": false
   },
   "outputs": [
    {
     "name": "stdout",
     "output_type": "stream",
     "text": [
      "['', '/usr/local/anaconda/envs/omegaml/lib/python27.zip', '/usr/local/anaconda/envs/omegaml/lib/python2.7', '/usr/local/anaconda/envs/omegaml/lib/python2.7/plat-linux2', '/usr/local/anaconda/envs/omegaml/lib/python2.7/lib-tk', '/usr/local/anaconda/envs/omegaml/lib/python2.7/lib-old', '/usr/local/anaconda/envs/omegaml/lib/python2.7/lib-dynload', '/home/patrick/.local/lib/python2.7/site-packages', '/usr/local/anaconda/envs/omegaml/lib/python2.7/site-packages', '/usr/local/anaconda/envs/omegaml/lib/python2.7/site-packages/setuptools-27.2.0-py2.7.egg', '/usr/local/anaconda/envs/omegaml/lib/python2.7/site-packages/IPython/extensions', '/home/patrick/.ipython']\n"
     ]
    },
    {
     "ename": "ImportError",
     "evalue": "No module named omegaml",
     "output_type": "error",
     "traceback": [
      "\u001b[0;31m---------------------------------------------------------------------------\u001b[0m",
      "\u001b[0;31mImportError\u001b[0m                               Traceback (most recent call last)",
      "\u001b[0;32m<ipython-input-7-c69880b0a759>\u001b[0m in \u001b[0;36m<module>\u001b[0;34m()\u001b[0m\n\u001b[1;32m      1\u001b[0m \u001b[0;32mimport\u001b[0m \u001b[0msys\u001b[0m\u001b[0;34m;\u001b[0m\u001b[0;34m\u001b[0m\u001b[0m\n\u001b[1;32m      2\u001b[0m \u001b[0;32mprint\u001b[0m\u001b[0;34m(\u001b[0m\u001b[0msys\u001b[0m\u001b[0;34m.\u001b[0m\u001b[0mpath\u001b[0m\u001b[0;34m)\u001b[0m\u001b[0;34m\u001b[0m\u001b[0m\n\u001b[0;32m----> 3\u001b[0;31m \u001b[0;32mimport\u001b[0m \u001b[0momegaml\u001b[0m\u001b[0;34m\u001b[0m\u001b[0m\n\u001b[0m",
      "\u001b[0;31mImportError\u001b[0m: No module named omegaml"
     ]
    }
   ],
   "source": [
    "import sys;\n",
    "print(sys.path)\n",
    "import omegaml"
   ]
  }
 ],
 "metadata": {
  "kernelspec": {
   "display_name": "Python 2",
   "language": "python",
   "name": "python2"
  },
  "language_info": {
   "codemirror_mode": {
    "name": "ipython",
    "version": 2
   },
   "file_extension": ".py",
   "mimetype": "text/x-python",
   "name": "python",
   "nbconvert_exporter": "python",
   "pygments_lexer": "ipython2",
   "version": "2.7.13"
  }
 },
 "nbformat": 4,
 "nbformat_minor": 0
}
