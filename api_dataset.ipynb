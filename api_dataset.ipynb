{
 "cells": [
  {
   "cell_type": "code",
   "execution_count": 17,
   "metadata": {
    "collapsed": false
   },
   "outputs": [
    {
     "data": {
      "text/plain": [
       "{u'meta': {u'limit': 20,\n",
       "  u'next': None,\n",
       "  u'offset': 0,\n",
       "  u'previous': None,\n",
       "  u'total_count': 2},\n",
       " u'objects': [{u'data': {u'kind': u'pandas.dfrows', u'name': u'sample'},\n",
       "   u'dtypes': None,\n",
       "   u'name': None,\n",
       "   u'resource_uri': u'/api/v1/dataset/sample/'},\n",
       "  {u'data': {u'kind': u'pandas.dfrows', u'name': u'test'},\n",
       "   u'dtypes': None,\n",
       "   u'name': None,\n",
       "   u'resource_uri': u'/api/v1/dataset/test/'}]}"
      ]
     },
     "execution_count": 17,
     "metadata": {},
     "output_type": "execute_result"
    }
   ],
   "source": [
    "import requests\n",
    "resp = requests.get('http://localhost:8000/api/v1/dataset/')\n",
    "resp.json()"
   ]
  },
  {
   "cell_type": "code",
   "execution_count": 25,
   "metadata": {
    "collapsed": false
   },
   "outputs": [
    {
     "data": {
      "text/plain": [
       "{u'data': {u'x': {u'0': 0,\n",
       "   u'1': 1,\n",
       "   u'10': 0,\n",
       "   u'11': 1,\n",
       "   u'12': 2,\n",
       "   u'13': 3,\n",
       "   u'14': 4,\n",
       "   u'15': 5,\n",
       "   u'16': 6,\n",
       "   u'17': 7,\n",
       "   u'18': 8,\n",
       "   u'19': 9,\n",
       "   u'2': 2,\n",
       "   u'3': 3,\n",
       "   u'4': 4,\n",
       "   u'5': 5,\n",
       "   u'6': 6,\n",
       "   u'7': 7,\n",
       "   u'8': 8,\n",
       "   u'9': 9},\n",
       "  u'y': {u'0': 48,\n",
       "   u'1': 76,\n",
       "   u'10': 38,\n",
       "   u'11': 4,\n",
       "   u'12': 96,\n",
       "   u'13': 69,\n",
       "   u'14': 50,\n",
       "   u'15': 21,\n",
       "   u'16': 78,\n",
       "   u'17': 2,\n",
       "   u'18': 16,\n",
       "   u'19': 98,\n",
       "   u'2': 80,\n",
       "   u'3': 65,\n",
       "   u'4': 93,\n",
       "   u'5': 88,\n",
       "   u'6': 81,\n",
       "   u'7': 56,\n",
       "   u'8': 70,\n",
       "   u'9': 10}},\n",
       " u'dtypes': {u'x': u'int64', u'y': u'int64'},\n",
       " u'name': u'sample',\n",
       " u'resource_uri': u'/api/v1/dataset/sample/'}"
      ]
     },
     "execution_count": 25,
     "metadata": {},
     "output_type": "execute_result"
    }
   ],
   "source": [
    "resp = requests.get('http://localhost:8000/api/v1/dataset/sample/')\n",
    "resp.json()"
   ]
  },
  {
   "cell_type": "code",
   "execution_count": 19,
   "metadata": {
    "collapsed": false
   },
   "outputs": [
    {
     "data": {
      "text/plain": [
       "{u'data': {u'rows': [{u'x': 0, u'y': 48},\n",
       "   {u'x': 1, u'y': 76},\n",
       "   {u'x': 2, u'y': 80},\n",
       "   {u'x': 3, u'y': 65},\n",
       "   {u'x': 4, u'y': 93},\n",
       "   {u'x': 5, u'y': 88},\n",
       "   {u'x': 6, u'y': 81},\n",
       "   {u'x': 7, u'y': 56},\n",
       "   {u'x': 8, u'y': 70},\n",
       "   {u'x': 9, u'y': 10},\n",
       "   {u'x': 0, u'y': 38},\n",
       "   {u'x': 1, u'y': 4},\n",
       "   {u'x': 2, u'y': 96},\n",
       "   {u'x': 3, u'y': 69},\n",
       "   {u'x': 4, u'y': 50},\n",
       "   {u'x': 5, u'y': 21},\n",
       "   {u'x': 6, u'y': 78},\n",
       "   {u'x': 7, u'y': 2},\n",
       "   {u'x': 8, u'y': 16},\n",
       "   {u'x': 9, u'y': 98}]},\n",
       " u'dtypes': {u'x': u'int64', u'y': u'int64'},\n",
       " u'name': u'sample',\n",
       " u'resource_uri': u'/api/v1/dataset/sample/'}"
      ]
     },
     "execution_count": 19,
     "metadata": {},
     "output_type": "execute_result"
    }
   ],
   "source": [
    "resp = requests.get('http://localhost:8000/api/v1/dataset/sample/?orient=records')\n",
    "resp.json()"
   ]
  },
  {
   "cell_type": "code",
   "execution_count": 21,
   "metadata": {
    "collapsed": false
   },
   "outputs": [
    {
     "data": {
      "text/plain": [
       "{u'data': {u'0': {u'x': 0, u'y': 48},\n",
       "  u'1': {u'x': 1, u'y': 76},\n",
       "  u'10': {u'x': 0, u'y': 38},\n",
       "  u'11': {u'x': 1, u'y': 4},\n",
       "  u'12': {u'x': 2, u'y': 96},\n",
       "  u'13': {u'x': 3, u'y': 69},\n",
       "  u'14': {u'x': 4, u'y': 50},\n",
       "  u'15': {u'x': 5, u'y': 21},\n",
       "  u'16': {u'x': 6, u'y': 78},\n",
       "  u'17': {u'x': 7, u'y': 2},\n",
       "  u'18': {u'x': 8, u'y': 16},\n",
       "  u'19': {u'x': 9, u'y': 98},\n",
       "  u'2': {u'x': 2, u'y': 80},\n",
       "  u'3': {u'x': 3, u'y': 65},\n",
       "  u'4': {u'x': 4, u'y': 93},\n",
       "  u'5': {u'x': 5, u'y': 88},\n",
       "  u'6': {u'x': 6, u'y': 81},\n",
       "  u'7': {u'x': 7, u'y': 56},\n",
       "  u'8': {u'x': 8, u'y': 70},\n",
       "  u'9': {u'x': 9, u'y': 10}},\n",
       " u'dtypes': {u'x': u'int64', u'y': u'int64'},\n",
       " u'name': u'sample',\n",
       " u'resource_uri': u'/api/v1/dataset/sample/'}"
      ]
     },
     "execution_count": 21,
     "metadata": {},
     "output_type": "execute_result"
    }
   ],
   "source": [
    "resp = requests.get('http://localhost:8000/api/v1/dataset/sample/?orient=index')\n",
    "resp.json()"
   ]
  }
 ],
 "metadata": {
  "kernelspec": {
   "display_name": "Python 2",
   "language": "python",
   "name": "python2"
  },
  "language_info": {
   "codemirror_mode": {
    "name": "ipython",
    "version": 2
   },
   "file_extension": ".py",
   "mimetype": "text/x-python",
   "name": "python",
   "nbconvert_exporter": "python",
   "pygments_lexer": "ipython2",
   "version": "2.7.13"
  }
 },
 "nbformat": 4,
 "nbformat_minor": 0
}
